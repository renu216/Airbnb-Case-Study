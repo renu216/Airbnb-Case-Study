{
 "cells": [
  {
   "attachments": {},
   "cell_type": "markdown",
   "id": "6de53d1e",
   "metadata": {},
   "source": [
    "# Case Study - Storytelling AIRBNB-NYC "
   ]
  },
  {
   "attachments": {},
   "cell_type": "markdown",
   "id": "59749aeb",
   "metadata": {},
   "source": [
    "### Problem Statement\n",
    "- For the past few months, Airbnb has seen a major decline in revenue. Now that the restrictions have started lifting and people have started to travel more, Airbnb wants to make sure that it is fully prepared for this change.\n",
    "- The different leaders at Airbnb want to understand some important insights based on various attributes in the dataset so as to increase the revenue. Our responsibility is to provide valuable insights to aid in decision making."
   ]
  },
  {
   "cell_type": "code",
   "execution_count": null,
   "id": "876afded",
   "metadata": {},
   "outputs": [],
   "source": [
    "# Importing Necessary libraries\n",
    "import pandas as pd\n",
    "import numpy as np\n",
    "import matplotlib.pyplot as plt\n",
    "import seaborn as sns\n",
    "import warnings\n",
    "warnings.filterwarnings(\"ignore\")"
   ]
  },
  {
   "cell_type": "code",
   "execution_count": null,
   "id": "bbc6d486",
   "metadata": {},
   "outputs": [],
   "source": [
    "# Read and understand the dataset and check the first five rows\n",
    "Airbnb_data = pd.read_csv('AB_NYC_2019.csv')\n",
    "Airbnb_data.head()"
   ]
  },
  {
   "cell_type": "code",
   "execution_count": null,
   "id": "f71db318",
   "metadata": {},
   "outputs": [],
   "source": [
    "Airbnb_data.shape "
   ]
  },
  {
   "attachments": {},
   "cell_type": "markdown",
   "id": "a7ebdcb4",
   "metadata": {},
   "source": [
    "- There are total 48895 rows and 16 columns."
   ]
  },
  {
   "cell_type": "code",
   "execution_count": null,
   "id": "27489cf5",
   "metadata": {},
   "outputs": [],
   "source": [
    "# printing all the columns in total dataset\n",
    "print(Airbnb_data.columns)"
   ]
  },
  {
   "attachments": {},
   "cell_type": "markdown",
   "id": "8ea3e1c6",
   "metadata": {},
   "source": [
    "# Finding Data types for each column"
   ]
  },
  {
   "cell_type": "code",
   "execution_count": null,
   "id": "6bd0dc5e",
   "metadata": {},
   "outputs": [],
   "source": [
    "# To see Non-Null counts before adding new columns to dataframe \n",
    "Airbnb_data.info()"
   ]
  },
  {
   "attachments": {},
   "cell_type": "markdown",
   "id": "77b42da3",
   "metadata": {},
   "source": [
    "# 1. Creating features"
   ]
  },
  {
   "attachments": {},
   "cell_type": "markdown",
   "id": "d2e6bc58",
   "metadata": {},
   "source": [
    "By categorizing, understanding the relationships and the connections between things improves and findings can be communicated in the better way."
   ]
  },
  {
   "attachments": {},
   "cell_type": "markdown",
   "id": "9c5923a8",
   "metadata": {},
   "source": [
    "## 1.1 Categorizing the \"availability_365\" column into 5 categories"
   ]
  },
  {
   "cell_type": "code",
   "execution_count": null,
   "id": "fe63a09d",
   "metadata": {},
   "outputs": [],
   "source": [
    "def availability_365_categories_function(row):\n",
    "    \"\"\"\n",
    "    Categorizes the \"minimum_nights\" column into 5 categories\n",
    "    \"\"\"\n",
    "    if row <= 1:\n",
    "        return 'very Low'\n",
    "    elif row <= 100:\n",
    "        return 'Low'\n",
    "    elif row <= 200 :\n",
    "        return 'Medium'\n",
    "    elif (row <= 300):\n",
    "        return 'High'\n",
    "    else:\n",
    "        return 'very High'"
   ]
  },
  {
   "cell_type": "code",
   "execution_count": null,
   "id": "174d16ac",
   "metadata": {},
   "outputs": [],
   "source": [
    "Airbnb_data['availability_365_categories'] = Airbnb_data.availability_365.map(availability_365_categories_function)\n",
    "Airbnb_data['availability_365_categories']"
   ]
  },
  {
   "cell_type": "code",
   "execution_count": null,
   "id": "3c97640f",
   "metadata": {},
   "outputs": [],
   "source": [
    "Airbnb_data['availability_365_categories'].value_counts()"
   ]
  },
  {
   "attachments": {},
   "cell_type": "markdown",
   "id": "938dff18",
   "metadata": {},
   "source": [
    "## 1.2 Categorizing the \"minimum_nights\" column into 5 categories"
   ]
  },
  {
   "cell_type": "code",
   "execution_count": null,
   "id": "ee727fb2",
   "metadata": {},
   "outputs": [],
   "source": [
    "def minimum_night_categories_function(row):\n",
    "    \"\"\"\n",
    "    Categorizes the \"minimum_nights\" column into 5 categories\n",
    "    \"\"\"\n",
    "    if row <= 1:\n",
    "        return 'very Low'\n",
    "    elif row <= 3:\n",
    "        return 'Low'\n",
    "    elif row <= 5 :\n",
    "        return 'Medium'\n",
    "    elif (row <= 7):\n",
    "        return 'High'\n",
    "    else:\n",
    "        return 'very High'"
   ]
  },
  {
   "cell_type": "code",
   "execution_count": null,
   "id": "c371817c",
   "metadata": {},
   "outputs": [],
   "source": [
    "Airbnb_data['minimum_night_categories'] = Airbnb_data.minimum_nights.map(minimum_night_categories_function)\n",
    "Airbnb_data['minimum_night_categories']"
   ]
  },
  {
   "cell_type": "code",
   "execution_count": null,
   "id": "8c4c2727",
   "metadata": {},
   "outputs": [],
   "source": [
    "Airbnb_data.minimum_night_categories.value_counts()"
   ]
  },
  {
   "attachments": {},
   "cell_type": "markdown",
   "id": "149865d8",
   "metadata": {},
   "source": [
    "## 1.3 Categorizing the \"number_of_reviews\" column into 5 categories"
   ]
  },
  {
   "cell_type": "code",
   "execution_count": null,
   "id": "afbd4c9c",
   "metadata": {},
   "outputs": [],
   "source": [
    "def number_of_reviews_categories_function(row):\n",
    "    \"\"\"\n",
    "    Categorizes the \"number_of_reviews\" column into 5 categories\n",
    "    \"\"\"\n",
    "    if row <= 1:\n",
    "        return 'very Low'\n",
    "    elif row <= 5:\n",
    "        return 'Low'\n",
    "    elif row <= 10 :\n",
    "        return 'Medium'\n",
    "    elif (row <= 30):\n",
    "        return 'High'\n",
    "    else:\n",
    "        return 'very High'"
   ]
  },
  {
   "cell_type": "code",
   "execution_count": null,
   "id": "32cdb9e0",
   "metadata": {},
   "outputs": [],
   "source": [
    "Airbnb_data['number_of_reviews_categories'] = Airbnb_data.minimum_nights.map(number_of_reviews_categories_function)\n",
    "Airbnb_data['number_of_reviews_categories']"
   ]
  },
  {
   "cell_type": "code",
   "execution_count": null,
   "id": "e7819a28",
   "metadata": {},
   "outputs": [],
   "source": [
    "Airbnb_data.number_of_reviews_categories.value_counts()"
   ]
  },
  {
   "attachments": {},
   "cell_type": "markdown",
   "id": "6222e237",
   "metadata": {},
   "source": [
    "## 1.4 Categorizing the \"price\" column into 5 categories"
   ]
  },
  {
   "cell_type": "code",
   "execution_count": null,
   "id": "ad6d0bc2",
   "metadata": {},
   "outputs": [],
   "source": [
    "Airbnb_data.price.describe()"
   ]
  },
  {
   "cell_type": "code",
   "execution_count": null,
   "id": "d758620d",
   "metadata": {},
   "outputs": [],
   "source": [
    "plt.figure(figsize=(10,5))\n",
    "plt.title('Price Distribution')\n",
    "sns.boxenplot(Airbnb_data.price, orient=\"h\")\n",
    "plt.show()"
   ]
  },
  {
   "cell_type": "code",
   "execution_count": null,
   "id": "a9926759",
   "metadata": {},
   "outputs": [],
   "source": [
    "Airbnb_data[Airbnb_data.price == 0].shape"
   ]
  },
  {
   "attachments": {},
   "cell_type": "markdown",
   "id": "d0d640f9",
   "metadata": {},
   "source": [
    "- there are total of 11 rows, in which price is marked as 0"
   ]
  },
  {
   "cell_type": "code",
   "execution_count": null,
   "id": "9273307e",
   "metadata": {},
   "outputs": [],
   "source": [
    "def price_categories_function(row):\n",
    "    \"\"\"\n",
    "    Categorizes the \"number_of_reviews\" column into 5 categories\n",
    "    \"\"\"\n",
    "    if row <= 1:\n",
    "        return 'very Low'\n",
    "    elif row <= 4:\n",
    "        return 'Low'\n",
    "    elif row <= 15 :\n",
    "        return 'Medium'\n",
    "    elif (row <= 100):\n",
    "        return 'High'\n",
    "    else:\n",
    "        return 'very High'"
   ]
  },
  {
   "cell_type": "code",
   "execution_count": null,
   "id": "094f10ba",
   "metadata": {},
   "outputs": [],
   "source": [
    "Airbnb_data['price_categories'] = Airbnb_data.minimum_nights.map(price_categories_function)\n",
    "Airbnb_data['price_categories']"
   ]
  },
  {
   "cell_type": "code",
   "execution_count": null,
   "id": "83c4ff6c",
   "metadata": {},
   "outputs": [],
   "source": [
    "Airbnb_data.price_categories.value_counts()"
   ]
  },
  {
   "attachments": {},
   "cell_type": "markdown",
   "id": "84bbdd58",
   "metadata": {},
   "source": [
    "# 2. Fixing columns"
   ]
  },
  {
   "cell_type": "code",
   "execution_count": null,
   "id": "2dde31bc",
   "metadata": {},
   "outputs": [],
   "source": [
    "# Check the datatypes of all the columns of the dataframe after categorizing the columns in data\n",
    "Airbnb_data.info()"
   ]
  },
  {
   "attachments": {},
   "cell_type": "markdown",
   "id": "8574da1b",
   "metadata": {},
   "source": [
    "- reviews_per_month column is of object Dtype. datetime64 is a better Data type for this column."
   ]
  },
  {
   "cell_type": "code",
   "execution_count": null,
   "id": "1855eea9",
   "metadata": {},
   "outputs": [],
   "source": [
    "Airbnb_data.last_review = pd.to_datetime(Airbnb_data.last_review)\n",
    "Airbnb_data.last_review"
   ]
  },
  {
   "attachments": {},
   "cell_type": "markdown",
   "id": "20d7035a",
   "metadata": {},
   "source": [
    "- There are no more Data types to be fixed and data does not contain inconsistencies such as shifted columns, which is need to align correctly. The columns necessery for the futher analysis are also derived."
   ]
  },
  {
   "attachments": {},
   "cell_type": "markdown",
   "id": "a5ad58bc",
   "metadata": {},
   "source": [
    "# 3. Data types"
   ]
  },
  {
   "cell_type": "code",
   "execution_count": null,
   "id": "0f9d3c7e",
   "metadata": {},
   "outputs": [],
   "source": [
    "# printing all the columns in the dataset\n",
    "print(Airbnb_data.columns)"
   ]
  },
  {
   "attachments": {},
   "cell_type": "markdown",
   "id": "343bcc96",
   "metadata": {},
   "source": [
    "## 3.1 Categorical"
   ]
  },
  {
   "cell_type": "code",
   "execution_count": null,
   "id": "de243707",
   "metadata": {},
   "outputs": [],
   "source": [
    "# Categorical nominal\n",
    "categorical_columns = Airbnb_data.columns[[0,1,3,4,5,8,16,17,18,19]]\n",
    "categorical_columns"
   ]
  },
  {
   "cell_type": "code",
   "execution_count": null,
   "id": "bce7e050",
   "metadata": {},
   "outputs": [],
   "source": [
    "# To see the first few rows of categorical columns\n",
    "Airbnb_data[categorical_columns].head()"
   ]
  },
  {
   "attachments": {},
   "cell_type": "markdown",
   "id": "2432c4cb",
   "metadata": {},
   "source": [
    "## 3.2 Numerical"
   ]
  },
  {
   "cell_type": "code",
   "execution_count": null,
   "id": "ddcef036",
   "metadata": {},
   "outputs": [],
   "source": [
    "numerical_columns = Airbnb_data.columns[[9,10,11,13,14,15]]\n",
    "numerical_columns"
   ]
  },
  {
   "cell_type": "code",
   "execution_count": null,
   "id": "186ea799",
   "metadata": {},
   "outputs": [],
   "source": [
    "Airbnb_data[numerical_columns].head()             "
   ]
  },
  {
   "cell_type": "code",
   "execution_count": null,
   "id": "c0811258",
   "metadata": {},
   "outputs": [],
   "source": [
    "Airbnb_data[numerical_columns].describe()             "
   ]
  },
  {
   "attachments": {},
   "cell_type": "markdown",
   "id": "fe839f48",
   "metadata": {},
   "source": [
    "## 3.3 Coordinates and date"
   ]
  },
  {
   "cell_type": "code",
   "execution_count": null,
   "id": "6e723424",
   "metadata": {},
   "outputs": [],
   "source": [
    "coordinates = Airbnb_data.columns[[5,6,12]]\n",
    "Airbnb_data[coordinates]"
   ]
  },
  {
   "attachments": {},
   "cell_type": "markdown",
   "id": "1d44faca",
   "metadata": {},
   "source": [
    "# 4. Missing value Treatment\n",
    "- In Data cleaning the first step is to check the missing values\n",
    "- Check the number of null (missing) values in the columns\n",
    "- Missing value means that values is not present in the data"
   ]
  },
  {
   "cell_type": "code",
   "execution_count": null,
   "id": "d3f249e8",
   "metadata": {},
   "outputs": [],
   "source": [
    "Airbnb_data.isnull()"
   ]
  },
  {
   "cell_type": "code",
   "execution_count": null,
   "id": "30779f1a",
   "metadata": {},
   "outputs": [],
   "source": [
    "# To see the sum of missing values for each column\n",
    "Airbnb_data.isnull().mean()*100"
   ]
  },
  {
   "attachments": {},
   "cell_type": "markdown",
   "id": "7ed704fe",
   "metadata": {},
   "source": [
    "##### Insights:\n",
    "- last_review , reviews_per_month columns have around 20.56% missing values\n",
    "- name and host_name have 0.03% and 0.04 % missing values respectively."
   ]
  },
  {
   "cell_type": "code",
   "execution_count": null,
   "id": "7bbc8906",
   "metadata": {},
   "outputs": [],
   "source": [
    "Airbnb_data[Airbnb_data.last_review.isnull()].head()"
   ]
  },
  {
   "cell_type": "code",
   "execution_count": null,
   "id": "70cb03ae",
   "metadata": {},
   "outputs": [],
   "source": [
    "# Selecting the data with no missing values for 'last_review' feature\n",
    "Airbnb_data1 = Airbnb_data[~Airbnb_data.last_review.isnull()]\n",
    "Airbnb_data1.head()"
   ]
  },
  {
   "cell_type": "code",
   "execution_count": null,
   "id": "2e6d329f",
   "metadata": {},
   "outputs": [],
   "source": [
    "Airbnb_data1.isnull().mean()*100"
   ]
  },
  {
   "attachments": {},
   "cell_type": "markdown",
   "id": "aafcf381",
   "metadata": {},
   "source": [
    "- After treating last review column, most of the missing values are removed"
   ]
  },
  {
   "cell_type": "code",
   "execution_count": null,
   "id": "a89c9616",
   "metadata": {},
   "outputs": [],
   "source": [
    "Airbnb_data1 = Airbnb_data1[~Airbnb_data1.host_name.isnull()]\n",
    "Airbnb_data1 = Airbnb_data1[~Airbnb_data1.name.isnull()]\n",
    "Airbnb_data1.head()"
   ]
  },
  {
   "cell_type": "code",
   "execution_count": null,
   "id": "39200a5d",
   "metadata": {},
   "outputs": [],
   "source": [
    "Airbnb_data1.isnull().mean()*100"
   ]
  },
  {
   "cell_type": "code",
   "execution_count": null,
   "id": "6af9a573",
   "metadata": {},
   "outputs": [],
   "source": [
    "# Count of 'neighbourhood_group' with missing values\n",
    "Airbnb_data.neighbourhood_group.value_counts(dropna=False)"
   ]
  },
  {
   "cell_type": "code",
   "execution_count": null,
   "id": "c3da72a5",
   "metadata": {},
   "outputs": [],
   "source": [
    "# Count of 'neighbourhood_group'\n",
    "Airbnb_data1.neighbourhood_group.value_counts(dropna=False)"
   ]
  },
  {
   "cell_type": "code",
   "execution_count": null,
   "id": "60a2ee57",
   "metadata": {},
   "outputs": [],
   "source": [
    "#Checking missing values percentage of each neighbourhood\n",
    "1-Airbnb_data1.neighbourhood_group.value_counts(dropna=False)/Airbnb_data.neighbourhood_group.value_counts(dropna=False)"
   ]
  },
  {
   "cell_type": "code",
   "execution_count": null,
   "id": "e33cde99",
   "metadata": {},
   "outputs": [],
   "source": [
    "plt.figure(figsize=(10,5))\n",
    "plt.title(\"Missing Value for Each Neighbourhood\")\n",
    "(1-Airbnb_data1.neighbourhood_group.value_counts(dropna=False)/Airbnb_data.neighbourhood_group.value_counts(dropna=False)).plot.bar()\n",
    "plt.show()"
   ]
  },
  {
   "cell_type": "code",
   "execution_count": null,
   "id": "eb1db384",
   "metadata": {},
   "outputs": [],
   "source": [
    "(1-Airbnb_data1.neighbourhood_group.value_counts(dropna=False)/Airbnb_data.neighbourhood_group.value_counts(dropna=False)).mean()"
   ]
  },
  {
   "attachments": {},
   "cell_type": "markdown",
   "id": "a326cbe2",
   "metadata": {},
   "source": [
    "##### Insights:\n",
    "-  The Each neighbourhood_group has about 19 % missing values in 'last_review' feature."
   ]
  },
  {
   "cell_type": "code",
   "execution_count": null,
   "id": "a3cd7c5d",
   "metadata": {},
   "outputs": [],
   "source": [
    "# Count of 'room_type' with missing values\n",
    "(1-Airbnb_data1.room_type.value_counts(dropna=False)/Airbnb_data.room_type.value_counts(dropna=False))*100"
   ]
  },
  {
   "cell_type": "code",
   "execution_count": null,
   "id": "b10c2d08",
   "metadata": {},
   "outputs": [],
   "source": [
    "plt.figure(figsize=(10,5))\n",
    "plt.title(\"Missing Value for Each Room Type\")\n",
    "(1-Airbnb_data1.room_type.value_counts(dropna=False)/Airbnb_data.room_type.value_counts(dropna=False)).plot.bar()\n",
    "plt.show()"
   ]
  },
  {
   "cell_type": "code",
   "execution_count": null,
   "id": "58d11d0b",
   "metadata": {},
   "outputs": [],
   "source": [
    "(1-Airbnb_data1.room_type.value_counts(dropna=False)/Airbnb_data.room_type.value_counts(dropna=False)).mean()"
   ]
  },
  {
   "attachments": {},
   "cell_type": "markdown",
   "id": "6b39195d",
   "metadata": {},
   "source": [
    "##### Insights:\n",
    "-  The Each neighbourhood_group has about 22 % missing values in 'last_review' feature."
   ]
  },
  {
   "cell_type": "code",
   "execution_count": null,
   "id": "13039735",
   "metadata": {},
   "outputs": [],
   "source": [
    "print('Mean and Median of prices with last_review feature missing')\n",
    "print('Mean   = ', Airbnb_data[Airbnb_data['last_review'].isnull()].price.mean())\n",
    "print('Median = ', Airbnb_data[Airbnb_data['last_review'].isnull()].price.median())\n",
    "\n",
    "print('\\nMean and Median of prices with last_review feature not missing')\n",
    "print('Mean   = ', Airbnb_data[Airbnb_data['last_review'].notnull()].price.mean())\n",
    "print('Median = ', Airbnb_data[Airbnb_data['last_review'].notnull()].price.median())"
   ]
  },
  {
   "attachments": {},
   "cell_type": "markdown",
   "id": "077abce4",
   "metadata": {},
   "source": [
    "##### Insights:\n",
    "- The pricing is higher when 'last_review' feature is missing .\n",
    "- reviews are less likely to be given for shared rooms\n",
    "- When the prices are high reviews are less likely to be given\n",
    "- The above analysis seems to show that the missing values here are not MCAR (missing completely at random)"
   ]
  },
  {
   "attachments": {},
   "cell_type": "markdown",
   "id": "5cb693d3",
   "metadata": {},
   "source": [
    "# 5.Univariate Analysis"
   ]
  },
  {
   "cell_type": "code",
   "execution_count": null,
   "id": "4ebd5956",
   "metadata": {
    "scrolled": true
   },
   "outputs": [],
   "source": [
    "Airbnb_data1.head()"
   ]
  },
  {
   "attachments": {},
   "cell_type": "markdown",
   "id": "3efd95da",
   "metadata": {},
   "source": [
    "## 5.1 host_id"
   ]
  },
  {
   "cell_type": "code",
   "execution_count": null,
   "id": "440681be",
   "metadata": {},
   "outputs": [],
   "source": [
    "Airbnb_data1.host_id.value_counts()"
   ]
  },
  {
   "attachments": {},
   "cell_type": "markdown",
   "id": "05ce662a",
   "metadata": {},
   "source": [
    "## 5.2 name"
   ]
  },
  {
   "cell_type": "code",
   "execution_count": null,
   "id": "37f823b2",
   "metadata": {},
   "outputs": [],
   "source": [
    "Airbnb_data1.name.value_counts()"
   ]
  },
  {
   "attachments": {},
   "cell_type": "markdown",
   "id": "1cad5b59",
   "metadata": {},
   "source": [
    "## 5.3 host_name"
   ]
  },
  {
   "cell_type": "code",
   "execution_count": null,
   "id": "69c4d0b8",
   "metadata": {},
   "outputs": [],
   "source": [
    "Airbnb_data1.host_name.value_counts()"
   ]
  },
  {
   "cell_type": "code",
   "execution_count": null,
   "id": "c65e70c7",
   "metadata": {},
   "outputs": [],
   "source": [
    "Airbnb_data1.host_name.value_counts().index[:10]"
   ]
  },
  {
   "cell_type": "code",
   "execution_count": null,
   "id": "8700ebdb",
   "metadata": {},
   "outputs": [],
   "source": [
    "# Top 10 host's\n",
    "plt.figure(figsize=(10,5))\n",
    "plt.title(\"Top 10 host\")\n",
    "sns.barplot(x = Airbnb_data1.host_name.value_counts().index[:10] , y = Airbnb_data1.host_name.value_counts().values[:10])\n",
    "plt.show()"
   ]
  },
  {
   "attachments": {},
   "cell_type": "markdown",
   "id": "6860a708",
   "metadata": {},
   "source": [
    "## 5.4 neighbourhood_group"
   ]
  },
  {
   "cell_type": "code",
   "execution_count": null,
   "id": "0951cd81",
   "metadata": {},
   "outputs": [],
   "source": [
    "Airbnb_data1.neighbourhood_group.value_counts(normalize=True)*100"
   ]
  },
  {
   "cell_type": "code",
   "execution_count": null,
   "id": "936edbc5",
   "metadata": {},
   "outputs": [],
   "source": [
    "plt.figure(figsize=(8,8))\n",
    "plt.title(\"Neighbourhood Group Distribution\")\n",
    "plt.pie(x = Airbnb_data1.neighbourhood_group.value_counts(normalize= True) * 100, labels = Airbnb_data1.neighbourhood_group.value_counts(normalize= True).index)\n",
    "plt.legend()\n",
    "plt.show()"
   ]
  },
  {
   "attachments": {},
   "cell_type": "markdown",
   "id": "a95fc9eb",
   "metadata": {},
   "source": [
    "##### Insights:\n",
    "- What are the neighbourhoods they need to target?\n",
    "- 81 % of the listing are Manhattan and Brooklyn neighbourhood_group"
   ]
  },
  {
   "attachments": {},
   "cell_type": "markdown",
   "id": "7c780e98",
   "metadata": {},
   "source": [
    "## 5.5 neighbourhood"
   ]
  },
  {
   "cell_type": "code",
   "execution_count": null,
   "id": "c372da38",
   "metadata": {},
   "outputs": [],
   "source": [
    "Airbnb_data1.neighbourhood.value_counts()"
   ]
  },
  {
   "attachments": {},
   "cell_type": "markdown",
   "id": "d9cfa74f",
   "metadata": {},
   "source": [
    "## 5.6 Price"
   ]
  },
  {
   "cell_type": "code",
   "execution_count": null,
   "id": "520c22eb",
   "metadata": {},
   "outputs": [],
   "source": [
    "Airbnb_data1.price.value_counts()"
   ]
  },
  {
   "cell_type": "code",
   "execution_count": null,
   "id": "4b2b91dd",
   "metadata": {},
   "outputs": [],
   "source": [
    "plt.figure(figsize=(10,10))\n",
    "plt.subplot(2, 1, 1)\n",
    "plt.title(\"Price Distribution\")\n",
    "sns.histplot(data = Airbnb_data.price,kde = True)\n",
    "plt.subplot(2, 1, 2)\n",
    "sns.boxenplot(data = Airbnb_data1.price,\n",
    "    orient =\"h\")\n",
    "plt.show()"
   ]
  },
  {
   "attachments": {},
   "cell_type": "markdown",
   "id": "0169e635",
   "metadata": {},
   "source": [
    "## 5.7 room_type"
   ]
  },
  {
   "cell_type": "code",
   "execution_count": null,
   "id": "a4ab00fe",
   "metadata": {},
   "outputs": [],
   "source": [
    "Airbnb_data1.room_type.value_counts(normalize=True)"
   ]
  },
  {
   "cell_type": "code",
   "execution_count": null,
   "id": "24597885",
   "metadata": {},
   "outputs": [],
   "source": [
    "plt.figure(figsize=(8,8))\n",
    "plt.title(\"Room Type\")\n",
    "plt.pie(x = Airbnb_data1.room_type.value_counts(normalize=True), \n",
    "labels = Airbnb_data.room_type.value_counts(normalize= True).index)\n",
    "plt.legend()\n",
    "plt.show()"
   ]
  },
  {
   "attachments": {},
   "cell_type": "markdown",
   "id": "18a760a6",
   "metadata": {},
   "source": [
    "## 5.8 minimum_nights"
   ]
  },
  {
   "cell_type": "code",
   "execution_count": null,
   "id": "6f10bd57",
   "metadata": {},
   "outputs": [],
   "source": [
    "Airbnb_data1.minimum_nights.value_counts()"
   ]
  },
  {
   "cell_type": "code",
   "execution_count": null,
   "id": "bb58c129",
   "metadata": {},
   "outputs": [],
   "source": [
    "Airbnb_data1.minimum_nights.describe()"
   ]
  },
  {
   "cell_type": "code",
   "execution_count": null,
   "id": "db106d5c",
   "metadata": {},
   "outputs": [],
   "source": [
    "plt.figure(figsize=(10,10))\n",
    "\n",
    "plt.subplot(2,1,1)\n",
    "plt.title(\"Minimum Nights Distribution\")\n",
    "sns.boxenplot(data = Airbnb_data1.minimum_nights, orient=\"h\")\n",
    "plt.subplot(2,1,2)\n",
    "plt.hist(data = Airbnb_data1, x = 'minimum_nights', bins = 80,range=(0,35) )\n",
    "plt.show()"
   ]
  },
  {
   "attachments": {},
   "cell_type": "markdown",
   "id": "43ed3733",
   "metadata": {},
   "source": [
    "## 5.9 number_of_reviews"
   ]
  },
  {
   "cell_type": "code",
   "execution_count": null,
   "id": "8fc60af4",
   "metadata": {},
   "outputs": [],
   "source": [
    "Airbnb_data1.number_of_reviews.describe()"
   ]
  },
  {
   "cell_type": "code",
   "execution_count": null,
   "id": "1856d30d",
   "metadata": {},
   "outputs": [],
   "source": [
    "plt.figure(figsize=(10,10))\n",
    "plt.subplot(2,1,1)\n",
    "plt.title(\"Number of Reviews Distribution\")\n",
    "sns.boxenplot(data = Airbnb_data1.number_of_reviews,orient=\"h\")\n",
    "plt.subplot(2,1,2)\n",
    "sns.histplot(data = Airbnb_data1, x = 'number_of_reviews',bins=100,binrange=(0,300))\n",
    "plt.show()"
   ]
  },
  {
   "attachments": {},
   "cell_type": "markdown",
   "id": "f918433e",
   "metadata": {},
   "source": [
    "## 5.10 reviews_per_month"
   ]
  },
  {
   "cell_type": "code",
   "execution_count": null,
   "id": "769c13d2",
   "metadata": {},
   "outputs": [],
   "source": [
    "Airbnb_data1.reviews_per_month.describe()"
   ]
  },
  {
   "cell_type": "code",
   "execution_count": null,
   "id": "cc775207",
   "metadata": {},
   "outputs": [],
   "source": [
    "plt.figure(figsize=(10,10))\n",
    "plt.subplot(2,1,1)\n",
    "plt.title(\"Reviews per Month Distribution\")\n",
    "sns.boxenplot(data = Airbnb_data1.reviews_per_month,orient=\"h\")\n",
    "plt.subplot(2,1,2)\n",
    "sns.histplot(data = Airbnb_data1, x = 'reviews_per_month',bins=100,binrange=(0,30))\n",
    "plt.show()"
   ]
  },
  {
   "attachments": {},
   "cell_type": "markdown",
   "id": "cb5ceda6",
   "metadata": {},
   "source": [
    "## 5.11 availability_365"
   ]
  },
  {
   "cell_type": "code",
   "execution_count": null,
   "id": "783a2357",
   "metadata": {},
   "outputs": [],
   "source": [
    "Airbnb_data1.availability_365.describe()"
   ]
  },
  {
   "cell_type": "code",
   "execution_count": null,
   "id": "c7e97da1",
   "metadata": {},
   "outputs": [],
   "source": [
    "plt.figure(figsize = (10,5))\n",
    "plt.title(\"365 days Availability Distribution\")\n",
    "sns.histplot(data = Airbnb_data1, x = 'availability_365',bins=50,binrange=(0,365), kde=True)\n",
    "plt.show()"
   ]
  },
  {
   "attachments": {},
   "cell_type": "markdown",
   "id": "c1d36c73",
   "metadata": {},
   "source": [
    "## 5.12 calculated_host_listings_count"
   ]
  },
  {
   "cell_type": "code",
   "execution_count": null,
   "id": "572bb6bc",
   "metadata": {},
   "outputs": [],
   "source": [
    "Airbnb_data1.calculated_host_listings_count.describe()"
   ]
  },
  {
   "cell_type": "code",
   "execution_count": null,
   "id": "df51288f",
   "metadata": {},
   "outputs": [],
   "source": [
    "plt.figure(figsize = (10,10))\n",
    "plt.subplot(2,1,1)\n",
    "plt.title(\"Host Listing Distribution\")\n",
    "sns.boxenplot(data = Airbnb_data1 , x = 'calculated_host_listings_count')\n",
    "plt.subplot(2,1,2)\n",
    "sns.histplot(data = Airbnb_data1, x = 'calculated_host_listings_count',bins=20,binrange=(0,20))\n",
    "plt.show()"
   ]
  },
  {
   "attachments": {},
   "cell_type": "markdown",
   "id": "9f88c409",
   "metadata": {},
   "source": [
    "## 5.13 minimum_night_categories"
   ]
  },
  {
   "cell_type": "code",
   "execution_count": null,
   "id": "7d2ed404",
   "metadata": {},
   "outputs": [],
   "source": [
    "Airbnb_data1.minimum_night_categories.value_counts(normalize= True)*100"
   ]
  },
  {
   "cell_type": "code",
   "execution_count": null,
   "id": "2a318aad",
   "metadata": {},
   "outputs": [],
   "source": [
    "plt.figure(figsize=(8,8))\n",
    "plt.title('Minimum night categories')\n",
    "plt.pie(x = Airbnb_data1.minimum_night_categories.value_counts(), labels=Airbnb_data1.minimum_night_categories.value_counts().index)\n",
    "plt.legend()\n",
    "plt.show()"
   ]
  },
  {
   "attachments": {},
   "cell_type": "markdown",
   "id": "6b7074b1",
   "metadata": {},
   "source": [
    "## 5.14 price_categories"
   ]
  },
  {
   "cell_type": "code",
   "execution_count": null,
   "id": "2d4e262d",
   "metadata": {},
   "outputs": [],
   "source": [
    "Airbnb_data1['price_categories'].value_counts(normalize=True)*100"
   ]
  },
  {
   "cell_type": "code",
   "execution_count": null,
   "id": "f797fa9b",
   "metadata": {},
   "outputs": [],
   "source": [
    "Airbnb_data1['price_categories'].describe()"
   ]
  },
  {
   "cell_type": "code",
   "execution_count": null,
   "id": "d236078f",
   "metadata": {},
   "outputs": [],
   "source": [
    "plt.figure(figsize=(8,8))\n",
    "plt.title('Price categories')\n",
    "plt.pie(x = Airbnb_data1.price_categories.value_counts(),labels=Airbnb_data1.price_categories.value_counts().index)\n",
    "plt.legend()\n",
    "plt.show()\n"
   ]
  },
  {
   "attachments": {},
   "cell_type": "markdown",
   "id": "187c8376",
   "metadata": {},
   "source": [
    "##### Insights:\n",
    "- What is the pricing ranges preferred by customers?\n",
    "- 'Low' price ranges are preferred by custumers followed by very 'Low' price ranges."
   ]
  },
  {
   "attachments": {},
   "cell_type": "markdown",
   "id": "0c0054c3",
   "metadata": {},
   "source": [
    "## 5.15 number_of_reviews_categories"
   ]
  },
  {
   "cell_type": "code",
   "execution_count": null,
   "id": "e9e7b8ed",
   "metadata": {},
   "outputs": [],
   "source": [
    "Airbnb_data.number_of_reviews_categories.value_counts(normalize=True)*100"
   ]
  },
  {
   "cell_type": "code",
   "execution_count": null,
   "id": "1061395e",
   "metadata": {},
   "outputs": [],
   "source": [
    "plt.figure(figsize=(8,8))\n",
    "plt.title('number_of_reviews_categories Distribution')\n",
    "plt.pie(x = Airbnb_data1.number_of_reviews_categories.value_counts(),labels=Airbnb_data1.number_of_reviews_categories.value_counts().index)\n",
    "plt.legend()\n",
    "plt.show()"
   ]
  },
  {
   "attachments": {},
   "cell_type": "markdown",
   "id": "19037970",
   "metadata": {},
   "source": [
    "# 6. Bivariate and Multivariate Analysis"
   ]
  },
  {
   "attachments": {},
   "cell_type": "markdown",
   "id": "44027764",
   "metadata": {},
   "source": [
    "## 6.1 Finding the correlations"
   ]
  },
  {
   "cell_type": "code",
   "execution_count": null,
   "id": "080992c0",
   "metadata": {},
   "outputs": [],
   "source": [
    "numerical_columns = Airbnb_data1.columns[[9,10,11,13,14,15]]\n",
    "Airbnb_data1[numerical_columns].head()"
   ]
  },
  {
   "cell_type": "code",
   "execution_count": null,
   "id": "13be7168",
   "metadata": {},
   "outputs": [],
   "source": [
    "Airbnb_data1[numerical_columns].corr()"
   ]
  },
  {
   "cell_type": "code",
   "execution_count": null,
   "id": "7b80c307",
   "metadata": {},
   "outputs": [],
   "source": [
    "plt.figure(figsize=(10,10))\n",
    "plt.title(\"Correlations between Different Features\")\n",
    "sns.heatmap(data = Airbnb_data1[numerical_columns].corr(), annot=True, cmap=\"Reds\", linecolor=\"White\", linewidths=5)\n",
    "plt.show()"
   ]
  },
  {
   "attachments": {},
   "cell_type": "markdown",
   "id": "3806c724",
   "metadata": {},
   "source": [
    "## 6.2 Finding Top correlations"
   ]
  },
  {
   "cell_type": "code",
   "execution_count": null,
   "id": "1260215b",
   "metadata": {},
   "outputs": [],
   "source": [
    "corr_matrix = Airbnb_data1[numerical_columns].corr().abs()\n",
    "\n",
    "#the matrix is symmetric so we need to extract upper triangle matrix without diagonal (k = 1)\n",
    "\n",
    "data = (corr_matrix.where(np.triu(np.ones(corr_matrix.shape), k=1).astype(bool))\n",
    "                  .stack()\n",
    "                  .sort_values(ascending=False))"
   ]
  },
  {
   "cell_type": "code",
   "execution_count": null,
   "id": "e7d3d820",
   "metadata": {},
   "outputs": [],
   "source": [
    "corr_matrix"
   ]
  },
  {
   "cell_type": "code",
   "execution_count": null,
   "id": "a86275f2",
   "metadata": {},
   "outputs": [],
   "source": [
    "data"
   ]
  },
  {
   "cell_type": "code",
   "execution_count": null,
   "id": "0db34516",
   "metadata": {},
   "outputs": [],
   "source": [
    "# Top meaningful correlations\n",
    "data[1:8]"
   ]
  },
  {
   "attachments": {},
   "cell_type": "markdown",
   "id": "fccc0e5e",
   "metadata": {},
   "source": [
    "## 6.3 number_of_reviews_categories and prices"
   ]
  },
  {
   "cell_type": "code",
   "execution_count": null,
   "id": "0ad823bb",
   "metadata": {},
   "outputs": [],
   "source": [
    "# prices for each of reviews_categories\n",
    "y1 = Airbnb_data1.number_of_reviews_categories.value_counts()\n",
    "y1"
   ]
  },
  {
   "cell_type": "code",
   "execution_count": null,
   "id": "18ed81fd",
   "metadata": {},
   "outputs": [],
   "source": [
    "plt.figure(figsize=(8,5))\n",
    "sns.barplot(x = y1.index,y = y1.values)\n",
    "plt.show()"
   ]
  },
  {
   "cell_type": "code",
   "execution_count": null,
   "id": "7e27a7b8",
   "metadata": {},
   "outputs": [],
   "source": [
    "plt.figure(figsize=(10,5))\n",
    "sns.boxenplot(y = Airbnb_data1.number_of_reviews_categories , x = Airbnb_data1.price)"
   ]
  },
  {
   "cell_type": "code",
   "execution_count": null,
   "id": "2d2e40ba",
   "metadata": {},
   "outputs": [],
   "source": [
    "Airbnb_data1.groupby('number_of_reviews_categories').price.mean().sort_values()"
   ]
  },
  {
   "cell_type": "code",
   "execution_count": null,
   "id": "e112ded3",
   "metadata": {},
   "outputs": [],
   "source": [
    "Airbnb_data1.groupby('number_of_reviews_categories').price.median().sort_values()"
   ]
  },
  {
   "attachments": {},
   "cell_type": "markdown",
   "id": "bb68a2a4",
   "metadata": {},
   "source": [
    "##### Insights:\n",
    "- What is the pricing ranges preferred by customers?\n",
    "- The total price for 'Low' or 'very Low' number_of_reviews_categories are high."
   ]
  },
  {
   "attachments": {},
   "cell_type": "markdown",
   "id": "1131cf94",
   "metadata": {},
   "source": [
    "## 6.4 ('room_type' and 'number_of_reviews_categories')"
   ]
  },
  {
   "cell_type": "code",
   "execution_count": null,
   "id": "51b5a880",
   "metadata": {},
   "outputs": [],
   "source": [
    "Airbnb_data1.room_type.value_counts()"
   ]
  },
  {
   "cell_type": "code",
   "execution_count": null,
   "id": "45d392c5",
   "metadata": {},
   "outputs": [],
   "source": [
    "pd.crosstab(Airbnb_data1['room_type'], Airbnb_data1['number_of_reviews_categories'])"
   ]
  },
  {
   "cell_type": "code",
   "execution_count": null,
   "id": "aa3a56b6",
   "metadata": {},
   "outputs": [],
   "source": [
    "Airbnb_data1.groupby('room_type').number_of_reviews.sum() "
   ]
  },
  {
   "cell_type": "code",
   "execution_count": null,
   "id": "d1793f41",
   "metadata": {},
   "outputs": [],
   "source": [
    "Airbnb_data1.groupby('room_type').number_of_reviews.sum()/Airbnb_data.room_type.value_counts()"
   ]
  },
  {
   "attachments": {},
   "cell_type": "markdown",
   "id": "da4cfaf5",
   "metadata": {},
   "source": [
    "##### Insights:\n",
    "- The various kinds of properties that exist w.r.t. customer preferences.?\n",
    "- Entire home/apt have more reviews than Shared rooms\n",
    "- 'Shared room' are less likey to give reviews. only 16 %"
   ]
  },
  {
   "attachments": {},
   "cell_type": "markdown",
   "id": "a1998224",
   "metadata": {},
   "source": [
    "## 6.5 'room_type' and 'price_categories'"
   ]
  },
  {
   "cell_type": "code",
   "execution_count": null,
   "id": "0957671c",
   "metadata": {},
   "outputs": [],
   "source": [
    "pd.crosstab(Airbnb_data1['room_type'], Airbnb_data1['price_categories'])"
   ]
  },
  {
   "attachments": {},
   "cell_type": "markdown",
   "id": "3f3312e2",
   "metadata": {},
   "source": [
    "## 6.6 'room_type' and 'reviews_per_month'"
   ]
  },
  {
   "cell_type": "code",
   "execution_count": null,
   "id": "460ee509",
   "metadata": {},
   "outputs": [],
   "source": [
    "Airbnb_data1.room_type.value_counts()"
   ]
  },
  {
   "cell_type": "code",
   "execution_count": null,
   "id": "a4e3ca6f",
   "metadata": {},
   "outputs": [],
   "source": [
    "Airbnb_data1.groupby('room_type').reviews_per_month.mean()"
   ]
  },
  {
   "cell_type": "code",
   "execution_count": null,
   "id": "500350b4",
   "metadata": {},
   "outputs": [],
   "source": [
    "Airbnb_data1.groupby('room_type').reviews_per_month.median()"
   ]
  },
  {
   "cell_type": "code",
   "execution_count": null,
   "id": "0c8e61e6",
   "metadata": {},
   "outputs": [],
   "source": [
    "Airbnb_data1.groupby('room_type').reviews_per_month.sum()"
   ]
  },
  {
   "cell_type": "code",
   "execution_count": null,
   "id": "ee69cefc",
   "metadata": {},
   "outputs": [],
   "source": [
    "plt.figure(figsize=(10,5))\n",
    "plt.title(\"Room Type Distribution vs Reviews Per Month\")\n",
    "sns.boxplot(data = Airbnb_data1, y = 'room_type' ,x = 'reviews_per_month')\n",
    "plt.show()"
   ]
  },
  {
   "attachments": {},
   "cell_type": "markdown",
   "id": "3393cde7",
   "metadata": {},
   "source": [
    "##### Insights:\n",
    "- For each 'room_type' there are ~1.4 reviews per month on average."
   ]
  },
  {
   "attachments": {},
   "cell_type": "markdown",
   "id": "e0d25433",
   "metadata": {},
   "source": [
    "## 6.7 minimum_night_categories and reviews_per_month"
   ]
  },
  {
   "cell_type": "code",
   "execution_count": null,
   "id": "2cbdceda",
   "metadata": {},
   "outputs": [],
   "source": [
    "Airbnb_data1.groupby('minimum_night_categories').reviews_per_month.sum().sort_values()"
   ]
  },
  {
   "cell_type": "code",
   "execution_count": null,
   "id": "904b3300",
   "metadata": {},
   "outputs": [],
   "source": [
    "plt.figure(figsize=(10,5))\n",
    "plt.title(\"Minimum Nights vs Reviews Per Month\")\n",
    "sns.boxplot(data = Airbnb_data1, y = 'minimum_night_categories' ,x = 'reviews_per_month')\n",
    "plt.show()"
   ]
  },
  {
   "attachments": {},
   "cell_type": "markdown",
   "id": "e6040a7a",
   "metadata": {},
   "source": [
    "##### Insights\n",
    "- Customer's are more likely to leave reviews for low number of minimum nights\n",
    "- Adjustments in the existing properties to make it more customer-oriented. ?\n",
    "- minimum_nights should be on the lower side to make properties more customer-oriented"
   ]
  },
  {
   "attachments": {},
   "cell_type": "markdown",
   "id": "31cc0933",
   "metadata": {},
   "source": [
    "## 6.8 'availability_365_categories', 'price_categories' and 'reviews_per_month'\n"
   ]
  },
  {
   "cell_type": "code",
   "execution_count": null,
   "id": "24e9e052",
   "metadata": {},
   "outputs": [],
   "source": [
    "Airbnb_data1.availability_365_categories.value_counts()"
   ]
  },
  {
   "cell_type": "code",
   "execution_count": null,
   "id": "b4fa2090",
   "metadata": {},
   "outputs": [],
   "source": [
    "pd.DataFrame(Airbnb_data1.groupby(['availability_365_categories','price_categories']).reviews_per_month.mean())"
   ]
  },
  {
   "attachments": {},
   "cell_type": "markdown",
   "id": "09e6045c",
   "metadata": {},
   "source": [
    "##### Insights\n",
    "- If availability and price both is very high, reviews_per_month is low on average.\n",
    "- Very high availability and very low price are likely to getting more reviews."
   ]
  },
  {
   "cell_type": "code",
   "execution_count": null,
   "id": "0140904b",
   "metadata": {},
   "outputs": [],
   "source": [
    "Airbnb_data1.to_csv('AirBnb_NYC_processed.csv')"
   ]
  }
 ],
 "metadata": {
  "kernelspec": {
   "display_name": "Python 3 (ipykernel)",
   "language": "python",
   "name": "python3"
  },
  "language_info": {
   "codemirror_mode": {
    "name": "ipython",
    "version": 3
   },
   "file_extension": ".py",
   "mimetype": "text/x-python",
   "name": "python",
   "nbconvert_exporter": "python",
   "pygments_lexer": "ipython3",
   "version": "3.11.3"
  }
 },
 "nbformat": 4,
 "nbformat_minor": 5
}
